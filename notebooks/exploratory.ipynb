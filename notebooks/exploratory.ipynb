{
 "cells": [
  {
   "cell_type": "markdown",
   "id": "a693939a",
   "metadata": {},
   "source": [
    "# AIS Data Exploration\n",
    "\n",
    "This notebook contains exploratory data analysis for AIS (Automatic Identification System) data.\n",
    "\n",
    "## Contents\n",
    "1. Data Loading and Overview\n",
    "2. Statistical Analysis\n",
    "3. Geospatial Analysis\n",
    "4. Temporal Patterns\n",
    "5. Vessel Behavior Analysis\n",
    "6. Data Quality Assessment"
   ]
  },
  {
   "cell_type": "code",
   "execution_count": null,
   "id": "620404d1",
   "metadata": {},
   "outputs": [],
   "source": [
    "import pandas as pd\n",
    "import numpy as np\n",
    "import matplotlib.pyplot as plt\n",
    "import seaborn as sns\n",
    "import folium\n",
    "import h3\n",
    "from datetime import datetime\n",
    "import warnings\n",
    "warnings.filterwarnings('ignore')\n",
    "\n",
    "# Import our custom modules\n",
    "import sys\n",
    "sys.path.append('../src')\n",
    "from data.loader import AISDataLoader\n",
    "from data.preprocessing import AISDataPreprocessor\n",
    "from visualization.plots import setup_plot_style\n",
    "\n",
    "# Set up plotting style\n",
    "setup_plot_style()\n",
    "plt.style.use('seaborn-v0_8')\n",
    "sns.set_palette('husl')"
   ]
  },
  {
   "cell_type": "markdown",
   "id": "ebbb3164",
   "metadata": {},
   "source": [
    "## 1. Data Loading and Overview"
   ]
  },
  {
   "cell_type": "code",
   "execution_count": null,
   "id": "1b053b14",
   "metadata": {},
   "outputs": [],
   "source": [
    "# Initialize data loader\n",
    "data_loader = AISDataLoader('../data')\n",
    "\n",
    "# List available data files\n",
    "print(\"Available raw data files:\")\n",
    "raw_files = data_loader.list_raw_files()\n",
    "for file in raw_files:\n",
    "    print(f\"  - {file}\")\n",
    "\n",
    "print(\"\\nAvailable processed data files:\")\n",
    "processed_files = data_loader.list_processed_files()\n",
    "for file in processed_files:\n",
    "    print(f\"  - {file}\")"
   ]
  },
  {
   "cell_type": "code",
   "execution_count": null,
   "id": "6bc2aba9",
   "metadata": {},
   "outputs": [],
   "source": [
    "# Load sample data (replace with your actual data file)\n",
    "# df = data_loader.load_raw_data('../data/raw/sample_ais_data.csv')\n",
    "# For demo purposes, create sample data\n",
    "np.random.seed(42)\n",
    "n_samples = 10000\n",
    "vessel_ids = [f'V{i:03d}' for i in range(1, 51)]  # 50 vessels\n",
    "\n",
    "df = pd.DataFrame({\n",
    "    'timestamp': pd.date_range('2024-01-01', periods=n_samples, freq='10min'),\n",
    "    'vessel_id': np.random.choice(vessel_ids, n_samples),\n",
    "    'lat': np.random.uniform(58, 62, n_samples),  # Norwegian coast area\n",
    "    'lon': np.random.uniform(4, 12, n_samples),\n",
    "    'speed': np.random.exponential(8, n_samples),  # Speed in knots\n",
    "    'course': np.random.uniform(0, 360, n_samples)  # Course in degrees\n",
    "})\n",
    "\n",
    "print(f\"Dataset shape: {df.shape}\")\n",
    "print(f\"Date range: {df['timestamp'].min()} to {df['timestamp'].max()}\")\n",
    "print(f\"Number of unique vessels: {df['vessel_id'].nunique()}\")\n",
    "\n",
    "df.head()"
   ]
  },
  {
   "cell_type": "markdown",
   "id": "c3d062b1",
   "metadata": {},
   "source": [
    "## 2. Statistical Analysis"
   ]
  },
  {
   "cell_type": "code",
   "execution_count": null,
   "id": "4cf5ba5d",
   "metadata": {},
   "outputs": [],
   "source": [
    "# Basic statistics\n",
    "print(\"Dataset Info:\")\n",
    "print(df.info())\n",
    "print(\"\\nStatistical Summary:\")\n",
    "print(df.describe())"
   ]
  },
  {
   "cell_type": "code",
   "execution_count": null,
   "id": "104f88c6",
   "metadata": {},
   "outputs": [],
   "source": [
    "# Distribution plots\n",
    "fig, axes = plt.subplots(2, 2, figsize=(15, 10))\n",
    "\n",
    "# Speed distribution\n",
    "axes[0, 0].hist(df['speed'], bins=50, alpha=0.7, edgecolor='black')\n",
    "axes[0, 0].set_title('Speed Distribution')\n",
    "axes[0, 0].set_xlabel('Speed (knots)')\n",
    "axes[0, 0].set_ylabel('Frequency')\n",
    "\n",
    "# Course distribution\n",
    "axes[0, 1].hist(df['course'], bins=36, alpha=0.7, edgecolor='black')\n",
    "axes[0, 1].set_title('Course Distribution')\n",
    "axes[0, 1].set_xlabel('Course (degrees)')\n",
    "axes[0, 1].set_ylabel('Frequency')\n",
    "\n",
    "# Latitude distribution\n",
    "axes[1, 0].hist(df['lat'], bins=50, alpha=0.7, edgecolor='black')\n",
    "axes[1, 0].set_title('Latitude Distribution')\n",
    "axes[1, 0].set_xlabel('Latitude')\n",
    "axes[1, 0].set_ylabel('Frequency')\n",
    "\n",
    "# Longitude distribution\n",
    "axes[1, 1].hist(df['lon'], bins=50, alpha=0.7, edgecolor='black')\n",
    "axes[1, 1].set_title('Longitude Distribution')\n",
    "axes[1, 1].set_xlabel('Longitude')\n",
    "axes[1, 1].set_ylabel('Frequency')\n",
    "\n",
    "plt.tight_layout()\n",
    "plt.show()"
   ]
  },
  {
   "cell_type": "markdown",
   "id": "aebf795e",
   "metadata": {},
   "source": [
    "## 3. Geospatial Analysis"
   ]
  },
  {
   "cell_type": "code",
   "execution_count": null,
   "id": "72eb2f9b",
   "metadata": {},
   "outputs": [],
   "source": [
    "# Create a sample map with vessel positions\n",
    "sample_positions = df.sample(1000)  # Sample for visualization\n",
    "\n",
    "# Create base map centered on the data\n",
    "center_lat = df['lat'].mean()\n",
    "center_lon = df['lon'].mean()\n",
    "\n",
    "m = folium.Map(location=[center_lat, center_lon], zoom_start=8)\n",
    "\n",
    "# Add vessel positions\n",
    "for idx, row in sample_positions.iterrows():\n",
    "    folium.CircleMarker(\n",
    "        location=[row['lat'], row['lon']],\n",
    "        radius=3,\n",
    "        popup=f\"Vessel: {row['vessel_id']}<br>Speed: {row['speed']:.1f} knots\",\n",
    "        color='blue',\n",
    "        fill=True,\n",
    "        fillColor='blue',\n",
    "        fillOpacity=0.6\n",
    "    ).add_to(m)\n",
    "\n",
    "# Display map\n",
    "m"
   ]
  },
  {
   "cell_type": "code",
   "execution_count": null,
   "id": "e4df231d",
   "metadata": {},
   "outputs": [],
   "source": [
    "# Heatmap of vessel positions\n",
    "plt.figure(figsize=(12, 8))\n",
    "plt.hexbin(df['lon'], df['lat'], gridsize=30, cmap='YlOrRd', mincnt=1)\n",
    "plt.colorbar(label='Number of Observations')\n",
    "plt.xlabel('Longitude')\n",
    "plt.ylabel('Latitude')\n",
    "plt.title('Vessel Position Density')\n",
    "plt.show()"
   ]
  },
  {
   "cell_type": "markdown",
   "id": "9aa903f2",
   "metadata": {},
   "source": [
    "## 4. Temporal Patterns"
   ]
  },
  {
   "cell_type": "code",
   "execution_count": null,
   "id": "022a3a3e",
   "metadata": {},
   "outputs": [],
   "source": [
    "# Add temporal features\n",
    "df['hour'] = df['timestamp'].dt.hour\n",
    "df['day_of_week'] = df['timestamp'].dt.day_name()\n",
    "df['month'] = df['timestamp'].dt.month\n",
    "\n",
    "# Hourly patterns\n",
    "fig, axes = plt.subplots(2, 2, figsize=(15, 10))\n",
    "\n",
    "# Messages per hour\n",
    "hourly_counts = df.groupby('hour').size()\n",
    "axes[0, 0].bar(hourly_counts.index, hourly_counts.values)\n",
    "axes[0, 0].set_title('AIS Messages by Hour of Day')\n",
    "axes[0, 0].set_xlabel('Hour')\n",
    "axes[0, 0].set_ylabel('Number of Messages')\n",
    "\n",
    "# Average speed by hour\n",
    "hourly_speed = df.groupby('hour')['speed'].mean()\n",
    "axes[0, 1].plot(hourly_speed.index, hourly_speed.values, marker='o')\n",
    "axes[0, 1].set_title('Average Speed by Hour of Day')\n",
    "axes[0, 1].set_xlabel('Hour')\n",
    "axes[0, 1].set_ylabel('Average Speed (knots)')\n",
    "\n",
    "# Messages by day of week\n",
    "daily_counts = df.groupby('day_of_week').size()\n",
    "day_order = ['Monday', 'Tuesday', 'Wednesday', 'Thursday', 'Friday', 'Saturday', 'Sunday']\n",
    "daily_counts = daily_counts.reindex(day_order)\n",
    "axes[1, 0].bar(range(len(daily_counts)), daily_counts.values)\n",
    "axes[1, 0].set_title('AIS Messages by Day of Week')\n",
    "axes[1, 0].set_xlabel('Day of Week')\n",
    "axes[1, 0].set_ylabel('Number of Messages')\n",
    "axes[1, 0].set_xticks(range(len(day_order)))\n",
    "axes[1, 0].set_xticklabels([day[:3] for day in day_order])\n",
    "\n",
    "# Time series of daily message counts\n",
    "daily_ts = df.set_index('timestamp').resample('D').size()\n",
    "axes[1, 1].plot(daily_ts.index, daily_ts.values)\n",
    "axes[1, 1].set_title('Daily Message Count Over Time')\n",
    "axes[1, 1].set_xlabel('Date')\n",
    "axes[1, 1].set_ylabel('Messages per Day')\n",
    "axes[1, 1].tick_params(axis='x', rotation=45)\n",
    "\n",
    "plt.tight_layout()\n",
    "plt.show()"
   ]
  },
  {
   "cell_type": "markdown",
   "id": "20d478b9",
   "metadata": {},
   "source": [
    "## 5. Vessel Behavior Analysis"
   ]
  },
  {
   "cell_type": "code",
   "execution_count": null,
   "id": "484435a0",
   "metadata": {},
   "outputs": [],
   "source": [
    "# Vessel activity statistics\n",
    "vessel_stats = df.groupby('vessel_id').agg({\n",
    "    'timestamp': ['count', 'min', 'max'],\n",
    "    'speed': ['mean', 'std', 'max'],\n",
    "    'lat': ['min', 'max'],\n",
    "    'lon': ['min', 'max']\n",
    "}).round(2)\n",
    "\n",
    "vessel_stats.columns = ['_'.join(col).strip() for col in vessel_stats.columns]\n",
    "\n",
    "print(\"Top 10 most active vessels:\")\n",
    "print(vessel_stats.sort_values('timestamp_count', ascending=False).head(10))"
   ]
  },
  {
   "cell_type": "code",
   "execution_count": null,
   "id": "69da7e78",
   "metadata": {},
   "outputs": [],
   "source": [
    "# Speed analysis by vessel\n",
    "fig, axes = plt.subplots(1, 2, figsize=(15, 6))\n",
    "\n",
    "# Distribution of average speeds\n",
    "avg_speeds = df.groupby('vessel_id')['speed'].mean()\n",
    "axes[0].hist(avg_speeds, bins=20, alpha=0.7, edgecolor='black')\n",
    "axes[0].set_title('Distribution of Average Vessel Speeds')\n",
    "axes[0].set_xlabel('Average Speed (knots)')\n",
    "axes[0].set_ylabel('Number of Vessels')\n",
    "\n",
    "# Box plot of speeds for top 10 active vessels\n",
    "top_vessels = vessel_stats.sort_values('timestamp_count', ascending=False).head(10).index\n",
    "speed_data = [df[df['vessel_id'] == vessel]['speed'].values for vessel in top_vessels]\n",
    "\n",
    "axes[1].boxplot(speed_data, labels=[v[:6] for v in top_vessels])\n",
    "axes[1].set_title('Speed Distribution for Top 10 Active Vessels')\n",
    "axes[1].set_xlabel('Vessel ID')\n",
    "axes[1].set_ylabel('Speed (knots)')\n",
    "axes[1].tick_params(axis='x', rotation=45)\n",
    "\n",
    "plt.tight_layout()\n",
    "plt.show()"
   ]
  },
  {
   "cell_type": "markdown",
   "id": "c23e9252",
   "metadata": {},
   "source": [
    "## 6. Data Quality Assessment"
   ]
  },
  {
   "cell_type": "code",
   "execution_count": null,
   "id": "6e6c7334",
   "metadata": {},
   "outputs": [],
   "source": [
    "# Data quality assessment\n",
    "preprocessor = AISDataPreprocessor()\n",
    "quality_issues = preprocessor.validate_ais_data(df)\n",
    "\n",
    "print(\"Data Quality Issues:\")\n",
    "if quality_issues:\n",
    "    for issue in quality_issues:\n",
    "        print(f\"  - {issue}\")\n",
    "else:\n",
    "    print(\"  No major data quality issues found!\")"
   ]
  },
  {
   "cell_type": "code",
   "execution_count": null,
   "id": "871fa50c",
   "metadata": {},
   "outputs": [],
   "source": [
    "# Missing value analysis\n",
    "missing_data = df.isnull().sum()\n",
    "missing_pct = (missing_data / len(df)) * 100\n",
    "\n",
    "missing_df = pd.DataFrame({\n",
    "    'Missing Count': missing_data,\n",
    "    'Missing Percentage': missing_pct\n",
    "})\n",
    "\n",
    "print(\"Missing Data Summary:\")\n",
    "print(missing_df[missing_df['Missing Count'] > 0])\n",
    "\n",
    "# Visualize missing data\n",
    "if missing_data.sum() > 0:\n",
    "    plt.figure(figsize=(10, 6))\n",
    "    missing_pct[missing_pct > 0].plot(kind='bar')\n",
    "    plt.title('Missing Data by Column')\n",
    "    plt.ylabel('Percentage Missing')\n",
    "    plt.xticks(rotation=45)\n",
    "    plt.tight_layout()\n",
    "    plt.show()\n",
    "else:\n",
    "    print(\"No missing data found!\")"
   ]
  },
  {
   "cell_type": "markdown",
   "id": "b19f06a8",
   "metadata": {},
   "source": [
    "## Summary and Next Steps\n",
    "\n",
    "Based on this exploratory analysis:\n",
    "\n",
    "1. **Data Overview**: [Add your observations about the dataset]\n",
    "2. **Temporal Patterns**: [Add insights about time-based patterns]\n",
    "3. **Spatial Distribution**: [Add insights about vessel locations]\n",
    "4. **Vessel Behavior**: [Add insights about individual vessel patterns]\n",
    "5. **Data Quality**: [Add assessment of data quality issues]\n",
    "\n",
    "**Recommendations for preprocessing:**\n",
    "- [Add specific preprocessing steps needed]\n",
    "- [Add feature engineering suggestions]\n",
    "- [Add data cleaning recommendations]"
   ]
  }
 ],
 "metadata": {
  "language_info": {
   "name": "python"
  }
 },
 "nbformat": 4,
 "nbformat_minor": 5
}
